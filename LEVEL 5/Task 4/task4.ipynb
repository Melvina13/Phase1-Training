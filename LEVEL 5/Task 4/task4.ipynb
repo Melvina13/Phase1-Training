{
 "cells": [
  {
   "cell_type": "code",
   "execution_count": 1,
   "metadata": {},
   "outputs": [
    {
     "name": "stdout",
     "output_type": "stream",
     "text": [
      "Processing complete. Check 'processing.log' for details.\n"
     ]
    }
   ],
   "source": [
    "import threading\n",
    "import logging\n",
    "import pandas as pd\n",
    "\n",
    "logging.basicConfig(filename='processing.log', level=logging.INFO, \n",
    "                    format='%(asctime)s - %(levelname)s - %(message)s')\n",
    "\n",
    "def process_csv(file_name, column_name):\n",
    "    logging.info(f\"Started processing {file_name}\")\n",
    "    \n",
    "    try:\n",
    "        df = pd.read_csv(file_name)\n",
    "        mean_value = df[column_name].mean()\n",
    "        logging.info(f\"Completed processing {file_name}, Mean of {column_name}: {mean_value}\")\n",
    "        print(f\"{file_name} - Mean of {column_name}: {mean_value}\")\n",
    "    except Exception as e:\n",
    "        logging.error(f\"Error processing {file_name}: {e}\")\n",
    "\n",
    "file1 = \"data1.csv\"\n",
    "file2 = \"data2.csv\"\n",
    "column_to_process = \"Price\"  \n",
    "\n",
    "thread1 = threading.Thread(target=process_csv, args=(file1, column_to_process))\n",
    "thread2 = threading.Thread(target=process_csv, args=(file2, column_to_process))\n",
    "\n",
    "thread1.start()\n",
    "thread2.start()\n",
    "\n",
    "thread1.join()\n",
    "thread2.join()\n",
    "\n",
    "print(\"Processing complete. Check 'processing.log' for details.\")\n"
   ]
  },
  {
   "cell_type": "code",
   "execution_count": 3,
   "metadata": {},
   "outputs": [
    {
     "name": "stdout",
     "output_type": "stream",
     "text": [
      "Processing complete. Check 'processing.log' for details.\n"
     ]
    }
   ],
   "source": [
    "import threading\n",
    "import logging\n",
    "import pandas as pd\n",
    "\n",
    "logging.basicConfig(filename='processing.log', level=logging.INFO, \n",
    "                    format='%(asctime)s - %(levelname)s - %(message)s')\n",
    "\n",
    "def process_csv(file_name, column_name):\n",
    "    logging.info(f\"Started processing {file_name}\")\n",
    "\n",
    "    try:\n",
    "        df = pd.read_csv(file_name)\n",
    "        mean_value = df[column_name].mean()\n",
    "        logging.info(f\"Completed processing {file_name}, Mean of {column_name}: {mean_value}\")\n",
    "        print(f\"{file_name} - Mean of {column_name}: {mean_value}\")\n",
    "    except Exception as e:\n",
    "        logging.error(f\"Error processing {file_name}: {e}\")\n",
    "\n",
    "file1 = \"data1.csv\"\n",
    "file2 = \"data2.csv\"\n",
    "column_to_process = \"Price\" \n",
    "\n",
    "thread1 = threading.Thread(target=process_csv, args=(file1, column_to_process))\n",
    "thread2 = threading.Thread(target=process_csv, args=(file2, column_to_process))\n",
    "\n",
    "thread1.start()\n",
    "thread2.start()\n",
    "\n",
    "thread1.join()\n",
    "thread2.join()\n",
    "\n",
    "print(\"Processing complete. Check 'processing.log' for details.\")\n"
   ]
  },
  {
   "cell_type": "code",
   "execution_count": 4,
   "metadata": {},
   "outputs": [
    {
     "name": "stdout",
     "output_type": "stream",
     "text": [
      "['processing.log', 'task4.ipynb']\n"
     ]
    }
   ],
   "source": [
    "import os\n",
    "print(os.listdir())  # Lists all files in the current directory\n"
   ]
  },
  {
   "cell_type": "code",
   "execution_count": 5,
   "metadata": {},
   "outputs": [
    {
     "name": "stdout",
     "output_type": "stream",
     "text": [
      "Sample CSV files created.\n"
     ]
    }
   ],
   "source": [
    "import pandas as pd\n",
    "\n",
    "data = {\"Price\": [100, 200, 300, 400, 500]}\n",
    "df = pd.DataFrame(data)\n",
    "\n",
    "df.to_csv(\"data1.csv\", index=False)\n",
    "df.to_csv(\"data2.csv\", index=False)\n",
    "\n",
    "print(\"Sample CSV files created.\")\n"
   ]
  },
  {
   "cell_type": "code",
   "execution_count": 6,
   "metadata": {},
   "outputs": [],
   "source": [
    "import os\n",
    "\n",
    "def process_csv(file_name, column_name, results, index):\n",
    "    if not os.path.exists(file_name):\n",
    "        logging.error(f\"File not found: {file_name}\")\n",
    "        results[index] = None\n",
    "        return\n",
    "\n",
    "    logging.info(f\"Started processing {file_name}\")\n",
    "    try:\n",
    "        df = pd.read_csv(file_name)\n",
    "        mean_value = df[column_name].mean()\n",
    "        results[index] = mean_value\n",
    "        logging.info(f\"Completed processing {file_name}, Mean of {column_name}: {mean_value}\")\n",
    "    except Exception as e:\n",
    "        logging.error(f\"Error processing {file_name}: {e}\")\n",
    "        results[index] = None\n"
   ]
  },
  {
   "cell_type": "code",
   "execution_count": 7,
   "metadata": {},
   "outputs": [
    {
     "name": "stdout",
     "output_type": "stream",
     "text": [
      "Mean1: 300.0, Mean2: 300.0\n",
      "Processing complete. Check 'processing.log' for details.\n"
     ]
    }
   ],
   "source": [
    "import threading\n",
    "import logging\n",
    "import pandas as pd\n",
    "import os\n",
    "\n",
    "logging.basicConfig(filename='processing.log', level=logging.INFO, \n",
    "                    format='%(asctime)s - %(levelname)s - %(message)s')\n",
    "\n",
    "def process_csv(file_name, column_name, results, index):\n",
    "    if not os.path.exists(file_name):\n",
    "        logging.error(f\"File not found: {file_name}\")\n",
    "        results[index] = None\n",
    "        return\n",
    "\n",
    "    logging.info(f\"Started processing {file_name}\")\n",
    "    try:\n",
    "        df = pd.read_csv(file_name)\n",
    "        mean_value = df[column_name].mean()\n",
    "        results[index] = mean_value\n",
    "        logging.info(f\"Completed processing {file_name}, Mean of {column_name}: {mean_value}\")\n",
    "    except Exception as e:\n",
    "        logging.error(f\"Error processing {file_name}: {e}\")\n",
    "        results[index] = None\n",
    "\n",
    "file1 = \"data1.csv\"\n",
    "file2 = \"data2.csv\"\n",
    "column_to_process = \"Price\"\n",
    "\n",
    "results = [None, None]\n",
    "\n",
    "thread1 = threading.Thread(target=process_csv, args=(file1, column_to_process, results, 0))\n",
    "thread2 = threading.Thread(target=process_csv, args=(file2, column_to_process, results, 1))\n",
    "\n",
    "thread1.start()\n",
    "thread2.start()\n",
    "\n",
    "thread1.join()\n",
    "thread2.join()\n",
    "\n",
    "print(f\"Mean1: {results[0]}, Mean2: {results[1]}\")\n",
    "print(\"Processing complete. Check 'processing.log' for details.\")\n"
   ]
  }
 ],
 "metadata": {
  "kernelspec": {
   "display_name": "Python 3",
   "language": "python",
   "name": "python3"
  },
  "language_info": {
   "codemirror_mode": {
    "name": "ipython",
    "version": 3
   },
   "file_extension": ".py",
   "mimetype": "text/x-python",
   "name": "python",
   "nbconvert_exporter": "python",
   "pygments_lexer": "ipython3",
   "version": "3.10.0"
  }
 },
 "nbformat": 4,
 "nbformat_minor": 2
}
