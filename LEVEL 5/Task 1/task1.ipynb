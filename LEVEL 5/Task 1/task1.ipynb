{
 "cells": [
  {
   "cell_type": "code",
   "execution_count": 1,
   "metadata": {},
   "outputs": [
    {
     "name": "stdout",
     "output_type": "stream",
     "text": [
      "\n",
      "=== Budget Summary ===\n",
      "Total Income: $5200.00\n",
      "Total Expenses: $1650.00\n",
      "Balance: $3550.00\n",
      "=====================\n"
     ]
    }
   ],
   "source": [
    "class BudgetTracker:\n",
    "    def __init__(self):\n",
    "        self.transactions = []\n",
    "\n",
    "    def add_income(self, amount, source):\n",
    "        self.transactions.append({\"type\": \"income\", \"amount\": amount, \"source\": source})\n",
    "\n",
    "    def add_expense(self, amount, category):\n",
    "        self.transactions.append({\"type\": \"expense\", \"amount\": amount, \"category\": category})\n",
    "\n",
    "    def print_summary(self):\n",
    "        total_income = sum(t[\"amount\"] for t in self.transactions if t[\"type\"] == \"income\")\n",
    "        total_expense = sum(t[\"amount\"] for t in self.transactions if t[\"type\"] == \"expense\")\n",
    "        balance = total_income - total_expense\n",
    "\n",
    "        print(\"\\n=== Budget Summary ===\")\n",
    "        print(f\"Total Income: ${total_income:.2f}\")\n",
    "        print(f\"Total Expenses: ${total_expense:.2f}\")\n",
    "        print(f\"Balance: ${balance:.2f}\")\n",
    "        print(\"=====================\")\n",
    "\n",
    "tracker = BudgetTracker()\n",
    "\n",
    "tracker.add_income(5000, \"Salary\")\n",
    "tracker.add_income(200, \"Freelance Work\")\n",
    "\n",
    "tracker.add_expense(1000, \"Rent\")\n",
    "tracker.add_expense(500, \"Groceries\")\n",
    "tracker.add_expense(150, \"Utilities\")\n",
    "\n",
    "tracker.print_summary()\n"
   ]
  }
 ],
 "metadata": {
  "kernelspec": {
   "display_name": "Python 3",
   "language": "python",
   "name": "python3"
  },
  "language_info": {
   "codemirror_mode": {
    "name": "ipython",
    "version": 3
   },
   "file_extension": ".py",
   "mimetype": "text/x-python",
   "name": "python",
   "nbconvert_exporter": "python",
   "pygments_lexer": "ipython3",
   "version": "3.10.0"
  }
 },
 "nbformat": 4,
 "nbformat_minor": 2
}
