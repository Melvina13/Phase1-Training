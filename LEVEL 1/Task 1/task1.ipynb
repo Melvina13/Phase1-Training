{
 "cells": [
  {
   "cell_type": "code",
   "execution_count": 1,
   "metadata": {},
   "outputs": [
    {
     "name": "stdout",
     "output_type": "stream",
     "text": [
      "modified list; [1, 2, 4, 5]\n"
     ]
    }
   ],
   "source": [
    "my_list=[1,2,3,4]\n",
    "my_list.append(5)\n",
    "my_list.remove(3)\n",
    "print(\"modified list;\",my_list)"
   ]
  },
  {
   "cell_type": "code",
   "execution_count": 2,
   "metadata": {},
   "outputs": [
    {
     "name": "stdout",
     "output_type": "stream",
     "text": [
      "modified set: {1, 3, 4, 5, 6, 7}\n"
     ]
    }
   ],
   "source": [
    "my_set={1,2,3,4,5,6}\n",
    "my_set.add(7)\n",
    "my_set.remove(2)\n",
    "print(\"modified set:\",my_set)"
   ]
  },
  {
   "cell_type": "code",
   "execution_count": 3,
   "metadata": {},
   "outputs": [
    {
     "name": "stdout",
     "output_type": "stream",
     "text": [
      "tuple: (1, 2, 3, 4, 5)\n"
     ]
    }
   ],
   "source": [
    "my_tuple=(1,2,3,4,5)\n",
    "print(\"tuple:\",my_tuple)"
   ]
  },
  {
   "cell_type": "code",
   "execution_count": 4,
   "metadata": {},
   "outputs": [
    {
     "name": "stdout",
     "output_type": "stream",
     "text": [
      "modified dictionary: {'a': 1, 'b': 2, 'd': 4, 'e': 5}\n"
     ]
    }
   ],
   "source": [
    "my_dict={\"a\":1,\"b\":2,\"c\":3,\"d\":4}\n",
    "my_dict[\"e\"]=5\n",
    "del my_dict[\"c\"]\n",
    "print(\"modified dictionary:\",my_dict)"
   ]
  },
  {
   "cell_type": "code",
   "execution_count": 1,
   "metadata": {},
   "outputs": [
    {
     "name": "stdout",
     "output_type": "stream",
     "text": [
      "Modified List: [1, 2, 3, 4]\n",
      "Modified Set: {2, 4, 6}\n",
      "Tuple: (1, 3, 5)\n",
      "Modified Dictionary: {'a': 1, 'b': 2, 'c': 3}\n"
     ]
    }
   ],
   "source": [
    "my_list = [1, 2, 3]\n",
    "my_list.append(4)\n",
    "my_set = {2, 4, 6}\n",
    "my_tuple = (1, 3, 5)\n",
    "my_dict = {\"a\": 1, \"b\": 2}\n",
    "my_dict[\"c\"] = 3\n",
    "\n",
    "print(\"Modified List:\", my_list)\n",
    "print(\"Modified Set:\", my_set)\n",
    "print(\"Tuple:\", my_tuple)\n",
    "print(\"Modified Dictionary:\", my_dict)"
   ]
  }
 ],
 "metadata": {
  "kernelspec": {
   "display_name": "Python 3",
   "language": "python",
   "name": "python3"
  },
  "language_info": {
   "codemirror_mode": {
    "name": "ipython",
    "version": 3
   },
   "file_extension": ".py",
   "mimetype": "text/x-python",
   "name": "python",
   "nbconvert_exporter": "python",
   "pygments_lexer": "ipython3",
   "version": "3.10.0"
  }
 },
 "nbformat": 4,
 "nbformat_minor": 2
}
