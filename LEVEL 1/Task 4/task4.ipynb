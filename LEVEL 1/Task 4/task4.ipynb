{
 "cells": [
  {
   "cell_type": "code",
   "execution_count": 1,
   "metadata": {},
   "outputs": [
    {
     "name": "stdout",
     "output_type": "stream",
     "text": [
      "\n",
      "Final Dictionary: {'name': 'riya', 'age': '20', 'city': 'chennai'}\n"
     ]
    }
   ],
   "source": [
    "\n",
    "user_dict = {}\n",
    "for i in range(3):\n",
    "    key = input(f\"Enter key {i+1}: \")\n",
    "    value = input(f\"Enter value for '{key}': \")\n",
    "    user_dict[key] = value  \n",
    "print(\"\\nFinal Dictionary:\", user_dict)\n"
   ]
  }
 ],
 "metadata": {
  "kernelspec": {
   "display_name": "Python 3",
   "language": "python",
   "name": "python3"
  },
  "language_info": {
   "codemirror_mode": {
    "name": "ipython",
    "version": 3
   },
   "file_extension": ".py",
   "mimetype": "text/x-python",
   "name": "python",
   "nbconvert_exporter": "python",
   "pygments_lexer": "ipython3",
   "version": "3.10.0"
  }
 },
 "nbformat": 4,
 "nbformat_minor": 2
}
