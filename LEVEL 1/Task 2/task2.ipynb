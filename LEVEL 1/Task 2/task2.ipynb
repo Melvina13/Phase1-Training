{
 "cells": [
  {
   "cell_type": "code",
   "execution_count": 6,
   "metadata": {},
   "outputs": [
    {
     "name": "stdout",
     "output_type": "stream",
     "text": [
      "array: [ 1  2  3  4  5  6  7  8  9 10]\n",
      "mean: 5.5\n",
      "min: 1\n",
      "max: 10\n"
     ]
    }
   ],
   "source": [
    "import numpy as np\n",
    "arr= np.arange(1, 11)\n",
    "mean_value=np.mean(arr)\n",
    "min_value=np.min(arr)\n",
    "max_value=np.max(arr)\n",
    "print(\"array:\",arr)\n",
    "print(\"mean:\",mean_value)\n",
    "print(\"min:\",min_value)\n",
    "print(\"max:\",max_value)"
   ]
  }
 ],
 "metadata": {
  "kernelspec": {
   "display_name": "Python 3",
   "language": "python",
   "name": "python3"
  },
  "language_info": {
   "codemirror_mode": {
    "name": "ipython",
    "version": 3
   },
   "file_extension": ".py",
   "mimetype": "text/x-python",
   "name": "python",
   "nbconvert_exporter": "python",
   "pygments_lexer": "ipython3",
   "version": "3.10.0"
  }
 },
 "nbformat": 4,
 "nbformat_minor": 2
}
