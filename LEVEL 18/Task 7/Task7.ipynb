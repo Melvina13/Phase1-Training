{
 "cells": [
  {
   "cell_type": "code",
   "execution_count": 2,
   "id": "f2e11f5a",
   "metadata": {},
   "outputs": [
    {
     "name": "stdout",
     "output_type": "stream",
     "text": [
      " player_links.csv created successfully!\n"
     ]
    }
   ],
   "source": [
    "import pandas as pd\n",
    "\n",
    "players_data = [\n",
    "    {\"player_name\": \"Virat Kohli\", \"player_href\": \"https://www.espncricinfo.com/player/virat-kohli-253802\"},\n",
    "    {\"player_name\": \"MS Dhoni\", \"player_href\": \"https://www.espncricinfo.com/player/ms-dhoni-28081\"},\n",
    "    {\"player_name\": \"Rohit Sharma\", \"player_href\": \"https://www.espncricinfo.com/player/rohit-sharma-34102\"},\n",
    "    {\"player_name\": \"Jasprit Bumrah\", \"player_href\": \"https://www.espncricinfo.com/player/jasprit-bumrah-625383\"},\n",
    "    {\"player_name\": \"Hardik Pandya\", \"player_href\": \"https://www.espncricinfo.com/player/hardik-pandya-625371\"},\n",
    "    {\"player_name\": \"KL Rahul\", \"player_href\": \"https://www.espncricinfo.com/player/kl-rahul-422108\"},\n",
    "    {\"player_name\": \"Suryakumar Yadav\", \"player_href\": \"https://www.espncricinfo.com/player/suryakumar-yadav-446507\"},\n",
    "]\n",
    "\n",
    "df_players = pd.DataFrame(players_data)\n",
    "\n",
    "df_players.to_csv(\"player_links.csv\", index=False)\n",
    "\n",
    "print(\" player_links.csv created successfully!\")\n"
   ]
  },
  {
   "cell_type": "code",
   "execution_count": 3,
   "id": "dc622b3f",
   "metadata": {},
   "outputs": [
    {
     "name": "stderr",
     "output_type": "stream",
     "text": [
      "100%|██████████| 7/7 [00:01<00:00,  5.08it/s]"
     ]
    },
    {
     "name": "stdout",
     "output_type": "stream",
     "text": [
      " Player info successfully extracted and saved to 'enriched_player_data.csv'\n"
     ]
    },
    {
     "name": "stderr",
     "output_type": "stream",
     "text": [
      "\n"
     ]
    }
   ],
   "source": [
    "import pandas as pd\n",
    "import requests\n",
    "from bs4 import BeautifulSoup\n",
    "from tqdm import tqdm\n",
    "import time\n",
    "\n",
    "df = pd.read_csv('player_links.csv') \n",
    "\n",
    "def fetch_player_details(url):\n",
    "    try:\n",
    "        headers = {\"User-Agent\": \"Mozilla/5.0\"}\n",
    "        res = requests.get(url, headers=headers)\n",
    "        soup = BeautifulSoup(res.text, 'html.parser')\n",
    "\n",
    "        info_box = soup.find_all(\"div\", class_=\"player-card-description\")\n",
    "\n",
    "        if len(info_box) >= 4:\n",
    "            dob = info_box[1].text.strip()\n",
    "            nationality = info_box[3].text.strip()\n",
    "        else:\n",
    "            dob = None\n",
    "            nationality = None\n",
    "\n",
    "        return pd.Series([dob, nationality])\n",
    "\n",
    "    except Exception as e:\n",
    "        print(f\"Error fetching {url}: {e}\")\n",
    "        return pd.Series([None, None])\n",
    "\n",
    "tqdm.pandas()\n",
    "df[['dob', 'nationality']] = df['player_href'].progress_apply(fetch_player_details)\n",
    "\n",
    "df.to_csv(\"enriched_player_data.csv\", index=False)\n",
    "\n",
    "print(\" Player info successfully extracted and saved to 'enriched_player_data.csv'\")\n"
   ]
  }
 ],
 "metadata": {
  "kernelspec": {
   "display_name": "Python 3",
   "language": "python",
   "name": "python3"
  },
  "language_info": {
   "codemirror_mode": {
    "name": "ipython",
    "version": 3
   },
   "file_extension": ".py",
   "mimetype": "text/x-python",
   "name": "python",
   "nbconvert_exporter": "python",
   "pygments_lexer": "ipython3",
   "version": "3.10.0"
  }
 },
 "nbformat": 4,
 "nbformat_minor": 5
}
