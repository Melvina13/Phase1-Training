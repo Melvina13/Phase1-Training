{
 "cells": [
  {
   "cell_type": "code",
   "execution_count": 2,
   "id": "bef6f2f2",
   "metadata": {},
   "outputs": [
    {
     "name": "stdout",
     "output_type": "stream",
     "text": [
      "                                          commentary        batsman  \\\n",
      "0  Virat Kohli hits it straight past the bowler B...    Virat Kohli   \n",
      "1  Rohit Sharma defends the ball bowled by Ashwin...   Rohit Sharma   \n",
      "2  MS Dhoni flicks it off his pads, bowler Chahal...       MS Dhoni   \n",
      "3  Hardik Pandya smashes it over the bowler Shami...  Hardik Pandya   \n",
      "4  Shubman Gill cuts it past point, bowler Siraj ...   Shubman Gill   \n",
      "\n",
      "                      bowler  runs  \n",
      "0                 Bumrah for     4  \n",
      "1                     Ashwin     0  \n",
      "2            Chahal concedes     2  \n",
      "3            Shami for a six     6  \n",
      "4  Siraj gives away a single     1  \n"
     ]
    }
   ],
   "source": [
    "import pandas as pd\n",
    "import re\n",
    "\n",
    "data = {\n",
    "    'commentary': [\n",
    "        \"Virat Kohli hits it straight past the bowler Bumrah for 4 runs.\",\n",
    "        \"Rohit Sharma defends the ball bowled by Ashwin. No run.\",\n",
    "        \"MS Dhoni flicks it off his pads, bowler Chahal concedes 2 runs.\",\n",
    "        \"Hardik Pandya smashes it over the bowler Shami for a six!\",\n",
    "        \"Shubman Gill cuts it past point, bowler Siraj gives away a single.\"\n",
    "    ]\n",
    "}\n",
    "\n",
    "df = pd.DataFrame(data )\n",
    "\n",
    "def extract_runs(text):\n",
    "    match = re.search(r'(\\d+) run[s]?', text.lower())\n",
    "    if match:\n",
    "        return int(match.group(1))\n",
    "    elif 'six' in text.lower():\n",
    "        return 6\n",
    "    elif 'four' in text.lower():\n",
    "        return 4\n",
    "    elif 'no run' in text.lower() or 'dot ball' in text.lower():\n",
    "        return 0\n",
    "    elif 'single' in text.lower():\n",
    "        return 1\n",
    "    else:\n",
    "        return None\n",
    "\n",
    "def extract_bowler(text):\n",
    "    match = re.search(r'bowler\\s+([A-Za-z\\s]+)', text)\n",
    "    if match:\n",
    "        return match.group(1).strip()\n",
    "    match2 = re.search(r'by\\s+([A-Z][a-z]+)', text)\n",
    "    if match2:\n",
    "        return match2.group(1).strip()\n",
    "    return None\n",
    "\n",
    "def extract_batsman(text):\n",
    "    return text.split()[0] + \" \" + text.split()[1]  \n",
    "\n",
    "df['batsman'] = df['commentary'].apply(extract_batsman)\n",
    "df['bowler'] = df['commentary'].apply(extract_bowler)\n",
    "df['runs'] = df['commentary'].apply(extract_runs)\n",
    "\n",
    "print(df[['commentary', 'batsman', 'bowler', 'runs']])\n"
   ]
  }
 ],
 "metadata": {
  "kernelspec": {
   "display_name": "Python 3",
   "language": "python",
   "name": "python3"
  },
  "language_info": {
   "codemirror_mode": {
    "name": "ipython",
    "version": 3
   },
   "file_extension": ".py",
   "mimetype": "text/x-python",
   "name": "python",
   "nbconvert_exporter": "python",
   "pygments_lexer": "ipython3",
   "version": "3.10.0"
  }
 },
 "nbformat": 4,
 "nbformat_minor": 5
}
