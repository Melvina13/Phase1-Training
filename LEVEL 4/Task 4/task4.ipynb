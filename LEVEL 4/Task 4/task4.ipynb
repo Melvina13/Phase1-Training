{
 "cells": [
  {
   "cell_type": "code",
   "execution_count": 1,
   "metadata": {},
   "outputs": [
    {
     "name": "stdout",
     "output_type": "stream",
     "text": [
      "Logging complete. Check the 'app.log' file for messages.\n"
     ]
    }
   ],
   "source": [
    "import logging\n",
    "\n",
    "logging.basicConfig(\n",
    "    filename=\"app.log\",  \n",
    "    level=logging.INFO,  \n",
    "    format=\"%(asctime)s - %(levelname)s - %(message)s\",  \n",
    "    datefmt=\"%Y-%m-%d %H:%M:%S\"  \n",
    ")\n",
    "\n",
    "def sample_function():\n",
    "    logging.info(\"This is an INFO message.\")\n",
    "    logging.warning(\"This is a WARNING message.\")\n",
    "    logging.error(\"This is an ERROR message.\")\n",
    "\n",
    "sample_function()\n",
    "\n",
    "print(\"Logging complete. Check the 'app.log' file for messages.\")\n"
   ]
  },
  {
   "cell_type": "code",
   "execution_count": 2,
   "metadata": {},
   "outputs": [
    {
     "name": "stdout",
     "output_type": "stream",
     "text": [
      "Logging complete. Check 'app.log' for entries.\n"
     ]
    }
   ],
   "source": [
    "import logging\n",
    "\n",
    "logging.basicConfig(\n",
    "    filename=\"app.log\",  \n",
    "    level=logging.INFO,  \n",
    "    format=\"%(asctime)s - %(levelname)s - %(message)s\", \n",
    "    datefmt=\"%Y-%m-%d %H:%M:%S\"  \n",
    ")\n",
    "\n",
    "logging.info(\"Script has started.\")\n",
    "\n",
    "logging.info(\"Task has completed.\")\n",
    "\n",
    "print(\"Logging complete. Check 'app.log' for entries.\")\n"
   ]
  }
 ],
 "metadata": {
  "kernelspec": {
   "display_name": "Python 3",
   "language": "python",
   "name": "python3"
  },
  "language_info": {
   "codemirror_mode": {
    "name": "ipython",
    "version": 3
   },
   "file_extension": ".py",
   "mimetype": "text/x-python",
   "name": "python",
   "nbconvert_exporter": "python",
   "pygments_lexer": "ipython3",
   "version": "3.10.0"
  }
 },
 "nbformat": 4,
 "nbformat_minor": 2
}
