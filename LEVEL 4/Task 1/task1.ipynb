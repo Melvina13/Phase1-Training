{
 "cells": [
  {
   "cell_type": "code",
   "execution_count": 2,
   "metadata": {},
   "outputs": [
    {
     "name": "stdout",
     "output_type": "stream",
     "text": [
      "Dataset downloaded and saved as house_prices.csv\n"
     ]
    }
   ],
   "source": [
    "import requests\n",
    "dataset_url = \"https://raw.githubusercontent.com/ageron/handson-ml2/master/datasets/housing/housing.csv\"\n",
    "file_name = \"house_prices.csv\"\n",
    "response = requests.get(dataset_url)\n",
    "with open(file_name, \"wb\") as file:\n",
    "    file.write(response.content)\n",
    "\n",
    "print(f\"Dataset downloaded and saved as {file_name}\")\n"
   ]
  },
  {
   "cell_type": "code",
   "execution_count": 3,
   "metadata": {},
   "outputs": [
    {
     "name": "stdout",
     "output_type": "stream",
     "text": [
      " Summary Statistics of House Price Dataset:\n",
      "           longitude      latitude  housing_median_age   total_rooms  \\\n",
      "count   20640.000000  20640.000000        20640.000000  20640.000000   \n",
      "unique           NaN           NaN                 NaN           NaN   \n",
      "top              NaN           NaN                 NaN           NaN   \n",
      "freq             NaN           NaN                 NaN           NaN   \n",
      "mean     -119.569704     35.631861           28.639486   2635.763081   \n",
      "std         2.003532      2.135952           12.585558   2181.615252   \n",
      "min      -124.350000     32.540000            1.000000      2.000000   \n",
      "25%      -121.800000     33.930000           18.000000   1447.750000   \n",
      "50%      -118.490000     34.260000           29.000000   2127.000000   \n",
      "75%      -118.010000     37.710000           37.000000   3148.000000   \n",
      "max      -114.310000     41.950000           52.000000  39320.000000   \n",
      "\n",
      "        total_bedrooms    population    households  median_income  \\\n",
      "count     20433.000000  20640.000000  20640.000000   20640.000000   \n",
      "unique             NaN           NaN           NaN            NaN   \n",
      "top                NaN           NaN           NaN            NaN   \n",
      "freq               NaN           NaN           NaN            NaN   \n",
      "mean        537.870553   1425.476744    499.539680       3.870671   \n",
      "std         421.385070   1132.462122    382.329753       1.899822   \n",
      "min           1.000000      3.000000      1.000000       0.499900   \n",
      "25%         296.000000    787.000000    280.000000       2.563400   \n",
      "50%         435.000000   1166.000000    409.000000       3.534800   \n",
      "75%         647.000000   1725.000000    605.000000       4.743250   \n",
      "max        6445.000000  35682.000000   6082.000000      15.000100   \n",
      "\n",
      "        median_house_value ocean_proximity  \n",
      "count         20640.000000           20640  \n",
      "unique                 NaN               5  \n",
      "top                    NaN       <1H OCEAN  \n",
      "freq                   NaN            9136  \n",
      "mean         206855.816909             NaN  \n",
      "std          115395.615874             NaN  \n",
      "min           14999.000000             NaN  \n",
      "25%          119600.000000             NaN  \n",
      "50%          179700.000000             NaN  \n",
      "75%          264725.000000             NaN  \n",
      "max          500001.000000             NaN  \n"
     ]
    }
   ],
   "source": [
    "import pandas as pd\n",
    "file_path = \"house_prices.csv\"  \n",
    "df = pd.read_csv(file_path)\n",
    "summary_stats = df.describe(include=\"all\") \n",
    "print(\" Summary Statistics of House Price Dataset:\")\n",
    "print(summary_stats)"
   ]
  }
 ],
 "metadata": {
  "kernelspec": {
   "display_name": "Python 3",
   "language": "python",
   "name": "python3"
  },
  "language_info": {
   "codemirror_mode": {
    "name": "ipython",
    "version": 3
   },
   "file_extension": ".py",
   "mimetype": "text/x-python",
   "name": "python",
   "nbconvert_exporter": "python",
   "pygments_lexer": "ipython3",
   "version": "3.10.0"
  }
 },
 "nbformat": 4,
 "nbformat_minor": 2
}
