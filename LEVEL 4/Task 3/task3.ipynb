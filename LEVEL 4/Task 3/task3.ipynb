{
 "cells": [
  {
   "cell_type": "code",
   "execution_count": 1,
   "metadata": {},
   "outputs": [
    {
     "name": "stdout",
     "output_type": "stream",
     "text": [
      "Function 1 - Iteration 0Function 2 - Iteration 0\n",
      "\n",
      "Function 1 - Iteration 1Function 2 - Iteration 1\n",
      "\n",
      "Function 1 - Iteration 2Function 2 - Iteration 2\n",
      "\n",
      "Function 1 - Iteration 3Function 2 - Iteration 3\n",
      "\n",
      "Function 1 - Iteration 4\n",
      "Function 2 - Iteration 4\n",
      "Both threads have finished execution.\n"
     ]
    }
   ],
   "source": [
    "import threading\n",
    "import time\n",
    "\n",
    "def function1():\n",
    "    for i in range(5):\n",
    "        time.sleep(1)\n",
    "        print(f\"Function 1 - Iteration {i}\")\n",
    "\n",
    "def function2():\n",
    "    for i in range(5):\n",
    "        time.sleep(1)\n",
    "        print(f\"Function 2 - Iteration {i}\")\n",
    "\n",
    "thread1 = threading.Thread(target=function1)\n",
    "thread2 = threading.Thread(target=function2)\n",
    "\n",
    "thread1.start()\n",
    "thread2.start()\n",
    "\n",
    "thread1.join()\n",
    "thread2.join()\n",
    "\n",
    "print(\"Both threads have finished execution.\")\n",
    "\n"
   ]
  },
  {
   "cell_type": "code",
   "execution_count": 2,
   "metadata": {},
   "outputs": [
    {
     "name": "stdout",
     "output_type": "stream",
     "text": [
      "[1, 2, 3]\n",
      "['A', 'B', 'C']\n",
      "Both threads have finished execution.\n"
     ]
    }
   ],
   "source": [
    "import threading\n",
    "\n",
    "def print_numbers():\n",
    "    print([1, 2, 3])\n",
    "\n",
    "def print_letters():\n",
    "    print([\"A\", \"B\", \"C\"])\n",
    "\n",
    "thread1 = threading.Thread(target=print_numbers)\n",
    "thread2 = threading.Thread(target=print_letters)\n",
    "\n",
    "thread1.start()\n",
    "thread2.start()\n",
    "\n",
    "thread1.join()\n",
    "thread2.join()\n",
    "\n",
    "print(\"Both threads have finished execution.\")\n"
   ]
  }
 ],
 "metadata": {
  "kernelspec": {
   "display_name": "Python 3",
   "language": "python",
   "name": "python3"
  },
  "language_info": {
   "codemirror_mode": {
    "name": "ipython",
    "version": 3
   },
   "file_extension": ".py",
   "mimetype": "text/x-python",
   "name": "python",
   "nbconvert_exporter": "python",
   "pygments_lexer": "ipython3",
   "version": "3.10.0"
  }
 },
 "nbformat": 4,
 "nbformat_minor": 2
}
