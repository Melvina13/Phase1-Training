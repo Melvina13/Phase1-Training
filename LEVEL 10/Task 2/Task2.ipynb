{
 "cells": [
  {
   "cell_type": "code",
   "execution_count": 1,
   "id": "fb48cc8e",
   "metadata": {},
   "outputs": [
    {
     "name": "stdout",
     "output_type": "stream",
     "text": [
      "Z-test: z-statistic = 16.219, p-value = 0.0000\n",
      "T-test: t-statistic = 19.298, p-value = 0.0000\n"
     ]
    }
   ],
   "source": [
    "import pandas as pd\n",
    "from scipy.stats import ttest_ind\n",
    "from statsmodels.stats.proportion import proportions_ztest\n",
    "df = pd.read_csv('https://raw.githubusercontent.com/datasciencedojo/datasets/master/titanic.csv')\n",
    "df = df.dropna(subset=['Sex', 'Survived'])\n",
    "survived_males = df[(df['Sex'] == 'male') & (df['Survived'] == 1)].shape[0]\n",
    "total_males = df[df['Sex'] == 'male'].shape[0]\n",
    "\n",
    "survived_females = df[(df['Sex'] == 'female') & (df['Survived'] == 1)].shape[0]\n",
    "total_females = df[df['Sex'] == 'female'].shape[0]\n",
    "count = [survived_females, survived_males]\n",
    "nobs = [total_females, total_males]\n",
    "\n",
    "z_stat, p_val_z = proportions_ztest(count, nobs)\n",
    "\n",
    "male_survival = df[df['Sex'] == 'male']['Survived']\n",
    "female_survival = df[df['Sex'] == 'female']['Survived']\n",
    "\n",
    "t_stat, p_val_t = ttest_ind(female_survival, male_survival)\n",
    "\n",
    "print(f\"Z-test: z-statistic = {z_stat:.3f}, p-value = {p_val_z:.4f}\")\n",
    "print(f\"T-test: t-statistic = {t_stat:.3f}, p-value = {p_val_t:.4f}\")\n"
   ]
  }
 ],
 "metadata": {
  "kernelspec": {
   "display_name": "Python 3",
   "language": "python",
   "name": "python3"
  },
  "language_info": {
   "codemirror_mode": {
    "name": "ipython",
    "version": 3
   },
   "file_extension": ".py",
   "mimetype": "text/x-python",
   "name": "python",
   "nbconvert_exporter": "python",
   "pygments_lexer": "ipython3",
   "version": "3.10.0"
  }
 },
 "nbformat": 4,
 "nbformat_minor": 5
}
