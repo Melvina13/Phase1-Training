{
 "cells": [
  {
   "cell_type": "code",
   "execution_count": 1,
   "metadata": {},
   "outputs": [
    {
     "name": "stdout",
     "output_type": "stream",
     "text": [
      "Scenario: A researcher wants to study the spending habits of college students. They randomly select 200 students from a university's student list.\n",
      "Selected Sampling Technique: Simple Random Sampling\n",
      "Justification: Every student has an equal chance of being selected, ensuring an unbiased representation.\n",
      "\n",
      "Scenario: A company wants to analyze employee satisfaction across different departments. They randomly select employees from each department proportionally.\n",
      "Selected Sampling Technique: Stratified Sampling\n",
      "Justification: Dividing employees into departments (strata) ensures representation from all groups.\n",
      "\n",
      "Scenario: A political analyst surveys people by selecting a few nearby neighborhoods and interviewing everyone in those areas.\n",
      "Selected Sampling Technique: Cluster Sampling\n",
      "Justification: Instead of sampling individuals randomly, entire neighborhoods (clusters) are selected to simplify data collection.\n",
      "\n",
      "Scenario: A surveyor interviews every 10th shopper entering a mall to understand shopping behavior.\n",
      "Selected Sampling Technique: Systematic Sampling\n",
      "Justification: A fixed interval approach (every 10th person) is used to ensure even sampling.\n",
      "\n"
     ]
    }
   ],
   "source": [
    "def choose_sampling_technique(scenario, technique, justification):\n",
    "    return (f\"Scenario: {scenario}\\n\"\n",
    "            f\"Selected Sampling Technique: {technique}\\n\"\n",
    "            f\"Justification: {justification}\\n\")\n",
    "\n",
    "scenarios = [\n",
    "    {\n",
    "        \"scenario\": \"A researcher wants to study the spending habits of college students. They randomly select 200 students from a university's student list.\",\n",
    "        \"technique\": \"Simple Random Sampling\",\n",
    "        \"justification\": \"Every student has an equal chance of being selected, ensuring an unbiased representation.\"\n",
    "    },\n",
    "    {\n",
    "        \"scenario\": \"A company wants to analyze employee satisfaction across different departments. They randomly select employees from each department proportionally.\",\n",
    "        \"technique\": \"Stratified Sampling\",\n",
    "        \"justification\": \"Dividing employees into departments (strata) ensures representation from all groups.\"\n",
    "    },\n",
    "    {\n",
    "        \"scenario\": \"A political analyst surveys people by selecting a few nearby neighborhoods and interviewing everyone in those areas.\",\n",
    "        \"technique\": \"Cluster Sampling\",\n",
    "        \"justification\": \"Instead of sampling individuals randomly, entire neighborhoods (clusters) are selected to simplify data collection.\"\n",
    "    },\n",
    "    {\n",
    "        \"scenario\": \"A surveyor interviews every 10th shopper entering a mall to understand shopping behavior.\",\n",
    "        \"technique\": \"Systematic Sampling\",\n",
    "        \"justification\": \"A fixed interval approach (every 10th person) is used to ensure even sampling.\"\n",
    "    },\n",
    "]\n",
    "\n",
    "for data in scenarios:\n",
    "    print(choose_sampling_technique(data[\"scenario\"], data[\"technique\"], data[\"justification\"]))\n"
   ]
  }
 ],
 "metadata": {
  "kernelspec": {
   "display_name": "Python 3",
   "language": "python",
   "name": "python3"
  },
  "language_info": {
   "codemirror_mode": {
    "name": "ipython",
    "version": 3
   },
   "file_extension": ".py",
   "mimetype": "text/x-python",
   "name": "python",
   "nbconvert_exporter": "python",
   "pygments_lexer": "ipython3",
   "version": "3.10.0"
  }
 },
 "nbformat": 4,
 "nbformat_minor": 2
}
