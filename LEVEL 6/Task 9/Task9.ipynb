{
 "cells": [
  {
   "cell_type": "code",
   "execution_count": 1,
   "metadata": {},
   "outputs": [
    {
     "name": "stdout",
     "output_type": "stream",
     "text": [
      "Approximately 40.13% of scores fall above 4.25.\n"
     ]
    }
   ],
   "source": [
    "import scipy.stats as stats\n",
    "mean = 4\n",
    "std_dev = 1\n",
    "value = 4.25  \n",
    "z_score = (value - mean) / std_dev  # z = 0.25\n",
    "percentage_above = stats.norm.sf(z_score) * 100  # norm.sf(z) = 1 - norm.cdf(z)\n",
    "print(f\"Approximately {percentage_above:.2f}% of scores fall above {value}.\")\n"
   ]
  }
 ],
 "metadata": {
  "kernelspec": {
   "display_name": "Python 3",
   "language": "python",
   "name": "python3"
  },
  "language_info": {
   "codemirror_mode": {
    "name": "ipython",
    "version": 3
   },
   "file_extension": ".py",
   "mimetype": "text/x-python",
   "name": "python",
   "nbconvert_exporter": "python",
   "pygments_lexer": "ipython3",
   "version": "3.10.0"
  }
 },
 "nbformat": 4,
 "nbformat_minor": 2
}
