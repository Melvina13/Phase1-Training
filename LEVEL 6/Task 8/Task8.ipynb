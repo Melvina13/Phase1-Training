{
 "cells": [
  {
   "cell_type": "code",
   "execution_count": 1,
   "metadata": {},
   "outputs": [
    {
     "name": "stdout",
     "output_type": "stream",
     "text": [
      "Approximately 68.27% of the data lies between 85 and 115.\n"
     ]
    }
   ],
   "source": [
    "import scipy.stats as stats\n",
    "mean = 100\n",
    "std_dev = 15\n",
    "lower_bound = mean - std_dev  \n",
    "upper_bound = mean + std_dev \n",
    "probability = stats.norm.cdf(upper_bound, mean, std_dev) - stats.norm.cdf(lower_bound, mean, std_dev)\n",
    "percentage = probability * 100\n",
    "print(f\"Approximately {percentage:.2f}% of the data lies between 85 and 115.\")\n"
   ]
  }
 ],
 "metadata": {
  "kernelspec": {
   "display_name": "Python 3",
   "language": "python",
   "name": "python3"
  },
  "language_info": {
   "codemirror_mode": {
    "name": "ipython",
    "version": 3
   },
   "file_extension": ".py",
   "mimetype": "text/x-python",
   "name": "python",
   "nbconvert_exporter": "python",
   "pygments_lexer": "ipython3",
   "version": "3.10.0"
  }
 },
 "nbformat": 4,
 "nbformat_minor": 2
}
