{
 "cells": [
  {
   "cell_type": "code",
   "execution_count": 1,
   "metadata": {},
   "outputs": [
    {
     "name": "stdout",
     "output_type": "stream",
     "text": [
      "Z-scores: [-1.4638501094227998, -0.8783100656536799, -0.29277002188455997, 0.29277002188455997, 0.8783100656536799, 1.4638501094227998]\n",
      "The z-score for 5 is approximately 0.29, meaning it’s 0.29 standard deviations above the mean.\n"
     ]
    }
   ],
   "source": [
    "import numpy as np\n",
    "data = np.array([2, 3, 4, 5, 6, 7])\n",
    "mean = np.mean(data)\n",
    "std_dev = np.std(data, ddof=0)\n",
    "z_scores = (data - mean) / std_dev\n",
    "z_score_5 = (5 - mean) / std_dev\n",
    "print(f\"Z-scores: {z_scores.tolist()}\")\n",
    "print(f\"The z-score for 5 is approximately {z_score_5:.2f}, meaning it’s {z_score_5:.2f} standard deviations above the mean.\")\n"
   ]
  }
 ],
 "metadata": {
  "kernelspec": {
   "display_name": "Python 3",
   "language": "python",
   "name": "python3"
  },
  "language_info": {
   "codemirror_mode": {
    "name": "ipython",
    "version": 3
   },
   "file_extension": ".py",
   "mimetype": "text/x-python",
   "name": "python",
   "nbconvert_exporter": "python",
   "pygments_lexer": "ipython3",
   "version": "3.10.0"
  }
 },
 "nbformat": 4,
 "nbformat_minor": 2
}
