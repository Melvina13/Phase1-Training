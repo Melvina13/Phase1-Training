{
 "cells": [
  {
   "cell_type": "code",
   "execution_count": 2,
   "metadata": {},
   "outputs": [
    {
     "name": "stdout",
     "output_type": "stream",
     "text": [
      "Descriptive Statistics: The average test score is 85.60%.\n",
      "Inferential Statistics: Based on the survey, we estimate that 69.00% of people prefer online shopping.\n",
      "95% Confidence Interval: 59.94% to 78.06%\n"
     ]
    }
   ],
   "source": [
    "import numpy as np\n",
    "from scipy import stats\n",
    "\n",
    "test_scores = [80, 85, 90, 75, 88, 92, 78, 84, 89, 95]\n",
    "\n",
    "average_score = np.mean(test_scores)\n",
    "print(f\"Descriptive Statistics: The average test score is {average_score:.2f}%.\")\n",
    "\n",
    "survey_sample = np.random.binomial(n=1, p=0.6, size=100)  \n",
    "sample_proportion = np.mean(survey_sample)\n",
    "\n",
    "conf_interval = stats.norm.interval(0.95, loc=sample_proportion, scale=np.sqrt((sample_proportion * (1 - sample_proportion)) / len(survey_sample)))\n",
    "\n",
    "print(f\"Inferential Statistics: Based on the survey, we estimate that {sample_proportion*100:.2f}% of people prefer online shopping.\")\n",
    "print(f\"95% Confidence Interval: {conf_interval[0]*100:.2f}% to {conf_interval[1]*100:.2f}%\")\n"
   ]
  }
 ],
 "metadata": {
  "kernelspec": {
   "display_name": "Python 3",
   "language": "python",
   "name": "python3"
  },
  "language_info": {
   "codemirror_mode": {
    "name": "ipython",
    "version": 3
   },
   "file_extension": ".py",
   "mimetype": "text/x-python",
   "name": "python",
   "nbconvert_exporter": "python",
   "pygments_lexer": "ipython3",
   "version": "3.10.0"
  }
 },
 "nbformat": 4,
 "nbformat_minor": 2
}
