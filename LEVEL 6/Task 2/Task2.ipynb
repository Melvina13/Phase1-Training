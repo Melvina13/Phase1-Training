{
 "cells": [
  {
   "cell_type": "code",
   "execution_count": 1,
   "metadata": {},
   "outputs": [
    {
     "name": "stdout",
     "output_type": "stream",
     "text": [
      "'Number of pets' is a quantitative (discrete) variable.\n",
      "'Blood type' is a qualitative (categorical) variable.\n",
      "'Weight in kg' is a quantitative (continuous) variable.\n",
      "'Satisfaction level' is a qualitative (categorical) variable.\n"
     ]
    }
   ],
   "source": [
    "def classify_variable(variable, var_type):\n",
    "    if var_type == \"categorical\":\n",
    "        return f\"'{variable}' is a qualitative (categorical) variable.\"\n",
    "    elif var_type == \"discrete\":\n",
    "        return f\"'{variable}' is a quantitative (discrete) variable.\"\n",
    "    elif var_type == \"continuous\":\n",
    "        return f\"'{variable}' is a quantitative (continuous) variable.\"\n",
    "    else:\n",
    "        return f\"Unknown type for variable '{variable}'.\"\n",
    "\n",
    "variables = {\n",
    "    \"Number of pets\": \"discrete\",\n",
    "    \"Blood type\": \"categorical\",\n",
    "    \"Weight in kg\": \"continuous\",\n",
    "    \"Satisfaction level\": \"categorical\"\n",
    "}\n",
    "\n",
    "for var, var_type in variables.items():\n",
    "    print(classify_variable(var, var_type))\n"
   ]
  }
 ],
 "metadata": {
  "kernelspec": {
   "display_name": "Python 3",
   "language": "python",
   "name": "python3"
  },
  "language_info": {
   "codemirror_mode": {
    "name": "ipython",
    "version": 3
   },
   "file_extension": ".py",
   "mimetype": "text/x-python",
   "name": "python",
   "nbconvert_exporter": "python",
   "pygments_lexer": "ipython3",
   "version": "3.10.0"
  }
 },
 "nbformat": 4,
 "nbformat_minor": 2
}
