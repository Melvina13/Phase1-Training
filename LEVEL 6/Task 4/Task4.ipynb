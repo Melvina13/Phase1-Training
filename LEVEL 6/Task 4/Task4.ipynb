{
 "cells": [
  {
   "cell_type": "code",
   "execution_count": 2,
   "metadata": {},
   "outputs": [
    {
     "name": "stdout",
     "output_type": "stream",
     "text": [
      "Mean: 21.00\n",
      "Median: 5.5\n",
      "Mode: 5\n",
      "Interpretation: The mean is high due to the outlier (100), while the median and mode better represent the central trend of the data.\n"
     ]
    }
   ],
   "source": [
    "import numpy as np\n",
    "from scipy import stats\n",
    "\n",
    "def calculate_central_tendency(data):\n",
    "    mean_value = np.mean(data)\n",
    "    median_value = np.median(data)\n",
    "    mode_value = stats.mode(data, keepdims=True).mode[0]  \n",
    "    interpretation = (\n",
    "        f\"Mean: {mean_value:.2f}\\n\"\n",
    "        f\"Median: {median_value}\\n\"\n",
    "        f\"Mode: {mode_value}\\n\"\n",
    "        \"Interpretation: The mean is high due to the outlier (100), while the median and mode better represent the central trend of the data.\"\n",
    "    )\n",
    "    \n",
    "    return interpretation\n",
    "\n",
    "data = [3, 5, 5, 6, 7, 100]\n",
    "\n",
    "print(calculate_central_tendency(data))\n"
   ]
  }
 ],
 "metadata": {
  "kernelspec": {
   "display_name": "Python 3",
   "language": "python",
   "name": "python3"
  },
  "language_info": {
   "codemirror_mode": {
    "name": "ipython",
    "version": 3
   },
   "file_extension": ".py",
   "mimetype": "text/x-python",
   "name": "python",
   "nbconvert_exporter": "python",
   "pygments_lexer": "ipython3",
   "version": "3.10.0"
  }
 },
 "nbformat": 4,
 "nbformat_minor": 2
}
