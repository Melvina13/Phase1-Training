{
 "cells": [
  {
   "cell_type": "code",
   "execution_count": 1,
   "metadata": {},
   "outputs": [
    {
     "name": "stdout",
     "output_type": "stream",
     "text": [
      "No outliers detected; all z-scores are below 3.\n"
     ]
    }
   ],
   "source": [
    "import numpy as np\n",
    "import scipy.stats as stats\n",
    "data = [1, 2, 3, 4, 5, 6, 7, 8, 9, 20]\n",
    "mean = np.mean(data)\n",
    "std_dev = np.std(data)  \n",
    "z_scores = [(x - mean) / std_dev for x in data]\n",
    "threshold = 3\n",
    "outliers = [data[i] for i in range(len(data)) if abs(z_scores[i]) > threshold]\n",
    "if outliers:\n",
    "    print(f\"Outliers: {outliers}\")\n",
    "else:\n",
    "    print(\"No outliers detected; all z-scores are below 3.\")\n"
   ]
  }
 ],
 "metadata": {
  "kernelspec": {
   "display_name": "Python 3",
   "language": "python",
   "name": "python3"
  },
  "language_info": {
   "codemirror_mode": {
    "name": "ipython",
    "version": 3
   },
   "file_extension": ".py",
   "mimetype": "text/x-python",
   "name": "python",
   "nbconvert_exporter": "python",
   "pygments_lexer": "ipython3",
   "version": "3.10.0"
  }
 },
 "nbformat": 4,
 "nbformat_minor": 2
}
