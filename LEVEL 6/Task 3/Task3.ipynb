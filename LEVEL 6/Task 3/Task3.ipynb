{
 "cells": [
  {
   "cell_type": "code",
   "execution_count": 1,
   "metadata": {},
   "outputs": [
    {
     "name": "stdout",
     "output_type": "stream",
     "text": [
      "Scenario: A researcher studies the average income of families in a city by surveying 100 households.\n",
      "Population: All families in the city\n",
      "Sample: 100 surveyed households\n",
      "\n"
     ]
    }
   ],
   "source": [
    "def identify_population_sample(scenario, population, sample):\n",
    "    return (f\"Scenario: {scenario}\\n\"\n",
    "            f\"Population: {population}\\n\"\n",
    "            f\"Sample: {sample}\\n\")\n",
    "\n",
    "scenario_data = {\n",
    "    \"scenario\": \"A researcher studies the average income of families in a city by surveying 100 households.\",\n",
    "    \"population\": \"All families in the city\",\n",
    "    \"sample\": \"100 surveyed households\"\n",
    "}\n",
    "\n",
    "print(identify_population_sample(scenario_data[\"scenario\"], scenario_data[\"population\"], scenario_data[\"sample\"]))\n"
   ]
  }
 ],
 "metadata": {
  "kernelspec": {
   "display_name": "Python 3",
   "language": "python",
   "name": "python3"
  },
  "language_info": {
   "codemirror_mode": {
    "name": "ipython",
    "version": 3
   },
   "file_extension": ".py",
   "mimetype": "text/x-python",
   "name": "python",
   "nbconvert_exporter": "python",
   "pygments_lexer": "ipython3",
   "version": "3.10.0"
  }
 },
 "nbformat": 4,
 "nbformat_minor": 2
}
