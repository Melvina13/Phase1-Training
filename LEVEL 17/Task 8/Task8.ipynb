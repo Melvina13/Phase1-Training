{
 "cells": [
  {
   "cell_type": "code",
   "execution_count": 1,
   "id": "27678b4f",
   "metadata": {},
   "outputs": [
    {
     "name": "stdout",
     "output_type": "stream",
     "text": [
      "Exploded and Joined DataFrame:\n",
      "    match_id team       player_name  is_captain  player_href\n",
      "0         1   MI      Rohit Sharma        True   href_rohit\n",
      "1         1   MI     Hardik Pandya       False  href_hardik\n",
      "2         1   MI    Jasprit Bumrah       False  href_bumrah\n",
      "3         2  RCB       Virat Kohli        True   href_kohli\n",
      "4         2  RCB    AB de Villiers       False      href_ab\n",
      "5         2  RCB  Yuzvendra Chahal       False  href_chahal\n"
     ]
    }
   ],
   "source": [
    "import pandas as pd\n",
    "\n",
    "commentary_df = pd.DataFrame({\n",
    "    'match_id': [1, 2],\n",
    "    'team': ['MI', 'RCB'],\n",
    "    'playing11': [\n",
    "        ['Rohit Sharma', 'Hardik Pandya', 'Jasprit Bumrah'],\n",
    "        ['Virat Kohli', 'AB de Villiers', 'Yuzvendra Chahal']\n",
    "    ]\n",
    "})\n",
    "\n",
    "player_href_df = pd.DataFrame({\n",
    "    'player_name': ['Rohit Sharma', 'Hardik Pandya', 'Jasprit Bumrah', \n",
    "                    'Virat Kohli', 'AB de Villiers', 'Yuzvendra Chahal'],\n",
    "    'is_captain': [True, False, False, True, False, False],\n",
    "    'player_href': [\n",
    "        'href_rohit', 'href_hardik', 'href_bumrah',\n",
    "        'href_kohli', 'href_ab', 'href_chahal'\n",
    "    ]\n",
    "})\n",
    "\n",
    "exploded_df = commentary_df.explode('playing11')\n",
    "\n",
    "exploded_df = exploded_df.rename(columns={'playing11': 'player_name'})\n",
    "\n",
    "joined_df = pd.merge(exploded_df, player_href_df, on='player_name', how='left')\n",
    "\n",
    "print(\"Exploded and Joined DataFrame:\\n\", joined_df)\n"
   ]
  }
 ],
 "metadata": {
  "kernelspec": {
   "display_name": "Python 3",
   "language": "python",
   "name": "python3"
  },
  "language_info": {
   "codemirror_mode": {
    "name": "ipython",
    "version": 3
   },
   "file_extension": ".py",
   "mimetype": "text/x-python",
   "name": "python",
   "nbconvert_exporter": "python",
   "pygments_lexer": "ipython3",
   "version": "3.10.0"
  }
 },
 "nbformat": 4,
 "nbformat_minor": 5
}
