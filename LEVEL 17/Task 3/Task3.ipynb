{
 "cells": [
  {
   "cell_type": "code",
   "execution_count": 1,
   "id": "2194dd83",
   "metadata": {},
   "outputs": [
    {
     "name": "stdout",
     "output_type": "stream",
     "text": [
      "Different tie-breakers used in tied matches:\n",
      "1. Match tied (Decided by Super Over)\n",
      "2. Match tied (Decided by Bowl-Out)\n",
      "3. Match tied (Decided on Boundary Count)\n",
      "4. Match tied (Decided by Net Run Rate)\n",
      "5. Match tied (Decided by Group Points)\n",
      "6. Match tied (Decided by Head-to-Head Record)\n"
     ]
    }
   ],
   "source": [
    "import pandas as pd\n",
    "\n",
    "matches_df = pd.DataFrame({\n",
    "    'match_id': [1, 2, 3, 4, 5, 6],\n",
    "    'result': [\n",
    "        'Match tied (Decided by Super Over)',\n",
    "        'Match tied (Decided by Bowl-Out)',\n",
    "        'Match tied (Decided on Boundary Count)',\n",
    "        'Match tied (Decided by Net Run Rate)',\n",
    "        'Match tied (Decided by Group Points)',\n",
    "        'Match tied (Decided by Head-to-Head Record)'\n",
    "    ]\n",
    "})\n",
    "\n",
    "tied_matches = matches_df[matches_df['result'].str.contains('tie', case=False)]\n",
    "\n",
    "tie_breakers = tied_matches['result'].unique()\n",
    "\n",
    "print(\"Different tie-breakers used in tied matches:\")\n",
    "for i, tb in enumerate(tie_breakers, 1):\n",
    "    print(f\"{i}. {tb}\")\n"
   ]
  }
 ],
 "metadata": {
  "kernelspec": {
   "display_name": "Python 3",
   "language": "python",
   "name": "python3"
  },
  "language_info": {
   "codemirror_mode": {
    "name": "ipython",
    "version": 3
   },
   "file_extension": ".py",
   "mimetype": "text/x-python",
   "name": "python",
   "nbconvert_exporter": "python",
   "pygments_lexer": "ipython3",
   "version": "3.10.0"
  }
 },
 "nbformat": 4,
 "nbformat_minor": 5
}
