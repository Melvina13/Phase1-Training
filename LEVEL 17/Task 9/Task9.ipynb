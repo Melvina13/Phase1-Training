{
 "cells": [
  {
   "cell_type": "code",
   "execution_count": 1,
   "id": "881499f9",
   "metadata": {},
   "outputs": [
    {
     "name": "stdout",
     "output_type": "stream",
     "text": [
      "Cumulative Running Score:\n",
      "    match_id  inning  ball_no   batsman  no_of_runs  running_total\n",
      "0         1       1        1  Player A           1              1\n",
      "1         1       1        2  Player A           4              5\n",
      "2         1       1        3  Player B           2              7\n",
      "3         2       1        1  Player C           6              6\n",
      "4         2       1        2  Player C           1              7\n"
     ]
    }
   ],
   "source": [
    "import pandas as pd\n",
    "\n",
    "df = pd.DataFrame({\n",
    "    'match_id': [1, 1, 1, 2, 2],\n",
    "    'inning': [1, 1, 1, 1, 1],\n",
    "    'ball_no': [1, 2, 3, 1, 2],\n",
    "    'batsman': ['Player A', 'Player A', 'Player B', 'Player C', 'Player C'],\n",
    "    'no_of_runs': [1, 4, 2, 6, 1]\n",
    "})\n",
    "\n",
    "df = df.sort_values(by=['match_id', 'inning', 'ball_no'])\n",
    "\n",
    "df['running_total'] = df.groupby(['match_id', 'inning'])['no_of_runs'].cumsum()\n",
    "\n",
    "print(\"Cumulative Running Score:\\n\", df)\n"
   ]
  }
 ],
 "metadata": {
  "kernelspec": {
   "display_name": "Python 3",
   "language": "python",
   "name": "python3"
  },
  "language_info": {
   "codemirror_mode": {
    "name": "ipython",
    "version": 3
   },
   "file_extension": ".py",
   "mimetype": "text/x-python",
   "name": "python",
   "nbconvert_exporter": "python",
   "pygments_lexer": "ipython3",
   "version": "3.10.0"
  }
 },
 "nbformat": 4,
 "nbformat_minor": 5
}
