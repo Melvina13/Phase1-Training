{
 "cells": [
  {
   "cell_type": "code",
   "execution_count": 1,
   "id": "22b665ec",
   "metadata": {},
   "outputs": [
    {
     "name": "stdout",
     "output_type": "stream",
     "text": [
      "LEFT JOIN:\n",
      "    match_id        commentary over_details\n",
      "0         1        Great shot          NaN\n",
      "1         2       Bowled him!          NaN\n",
      "2         3   Pulled for four      Over 15\n",
      "3         4  Defended solidly      Over 20\n",
      "\n",
      "RIGHT JOIN:\n",
      "    match_id        commentary over_details\n",
      "0         3   Pulled for four      Over 15\n",
      "1         4  Defended solidly      Over 20\n",
      "2         5               NaN      Over 10\n",
      "\n",
      "INNER JOIN:\n",
      "    match_id        commentary over_details\n",
      "0         3   Pulled for four      Over 15\n",
      "1         4  Defended solidly      Over 20\n",
      "\n",
      "=== Match Count Summary ===\n",
      "Matches in commentary_df: 4\n",
      "Matches in over_df: 3\n",
      "Matches in INNER JOIN: 2\n"
     ]
    }
   ],
   "source": [
    "import pandas as pd\n",
    "\n",
    "commentary_df = pd.DataFrame({\n",
    "    \"match_id\": [1, 2, 3, 4],\n",
    "    \"commentary\": [\"Great shot\", \"Bowled him!\", \"Pulled for four\", \"Defended solidly\"]\n",
    "})\n",
    "\n",
    "over_df = pd.DataFrame({\n",
    "    \"match_id\": [3, 4, 5],\n",
    "    \"over_details\": [\"Over 15\", \"Over 20\", \"Over 10\"]\n",
    "})\n",
    "\n",
    "left_join = pd.merge(commentary_df, over_df, on=\"match_id\", how=\"left\")\n",
    "print(\"LEFT JOIN:\\n\", left_join)\n",
    "\n",
    "right_join = pd.merge(commentary_df, over_df, on=\"match_id\", how=\"right\")\n",
    "print(\"\\nRIGHT JOIN:\\n\", right_join)\n",
    "\n",
    "inner_join = pd.merge(commentary_df, over_df, on=\"match_id\", how=\"inner\")\n",
    "print(\"\\nINNER JOIN:\\n\", inner_join)\n",
    "\n",
    "print(\"\\n=== Match Count Summary ===\")\n",
    "print(\"Matches in commentary_df:\", commentary_df['match_id'].nunique())\n",
    "print(\"Matches in over_df:\", over_df['match_id'].nunique())\n",
    "print(\"Matches in INNER JOIN:\", inner_join['match_id'].nunique())\n"
   ]
  }
 ],
 "metadata": {
  "kernelspec": {
   "display_name": "Python 3",
   "language": "python",
   "name": "python3"
  },
  "language_info": {
   "codemirror_mode": {
    "name": "ipython",
    "version": 3
   },
   "file_extension": ".py",
   "mimetype": "text/x-python",
   "name": "python",
   "nbconvert_exporter": "python",
   "pygments_lexer": "ipython3",
   "version": "3.10.0"
  }
 },
 "nbformat": 4,
 "nbformat_minor": 5
}
