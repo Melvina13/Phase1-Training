{
 "cells": [
  {
   "cell_type": "code",
   "execution_count": 2,
   "id": "64671d22",
   "metadata": {},
   "outputs": [
    {
     "name": "stdout",
     "output_type": "stream",
     "text": [
      "   ball               comment\n",
      "0     1             Good ball\n",
      "1     2  Driven through cover\n",
      "2     3        Short and wide\n"
     ]
    }
   ],
   "source": [
    "import pandas as pd\n",
    "\n",
    "commentary_df = pd.DataFrame({\n",
    "    'ball': [1, 2],\n",
    "    'comment': ['Good ball', 'Driven through cover']\n",
    "})\n",
    "\n",
    "over_df = pd.DataFrame({\n",
    "    'ball': [3],\n",
    "    'comment': ['Short and wide']\n",
    "})\n",
    "\n",
    "combined_df = pd.concat([commentary_df, over_df], ignore_index=True, sort=False)\n",
    "\n",
    "print(combined_df)\n"
   ]
  }
 ],
 "metadata": {
  "kernelspec": {
   "display_name": "Python 3",
   "language": "python",
   "name": "python3"
  },
  "language_info": {
   "codemirror_mode": {
    "name": "ipython",
    "version": 3
   },
   "file_extension": ".py",
   "mimetype": "text/x-python",
   "name": "python",
   "nbconvert_exporter": "python",
   "pygments_lexer": "ipython3",
   "version": "3.10.0"
  }
 },
 "nbformat": 4,
 "nbformat_minor": 5
}
