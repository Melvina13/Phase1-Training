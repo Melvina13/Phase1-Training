{
 "cells": [
  {
   "cell_type": "code",
   "execution_count": 4,
   "id": "f2b145df",
   "metadata": {},
   "outputs": [
    {
     "name": "stdout",
     "output_type": "stream",
     "text": [
      "1. Teams each year:\n",
      " season\n",
      "2020    3\n",
      "2021    4\n",
      "2022    2\n",
      "Name: team, dtype: int64\n",
      "\n",
      "2. Match result counts:\n",
      " result\n",
      "completed    3\n",
      "tied         1\n",
      "abandoned    1\n",
      "Name: count, dtype: int64\n",
      "\n",
      "3. Average balls per match per inning:\n",
      " inning\n",
      "1    2.333333\n",
      "2    1.500000\n",
      "dtype: float64\n",
      "\n",
      "4. Matches won per year:\n",
      "    season winner  wins\n",
      "0    2020     MI     1\n",
      "1    2020    RCB     1\n",
      "2    2021    CSK     1\n",
      "3    2022     GT     1\n",
      "\n",
      "5. Batsmen list vs set per match/team:\n",
      "    match_id batting_team            batsmen_list      batsmen_set\n",
      "0         1           MI  [Rohit, Rohit, Kishan]  [Kishan, Rohit]\n",
      "1         2          RCB          [Kohli, Kohli]          [Kohli]\n",
      "2         3          CSK          [Dhoni, Dhoni]          [Dhoni]\n",
      "3         5           GT            [Gill, Saha]     [Saha, Gill]\n",
      "4         5           RR               [Buttler]        [Buttler]\n"
     ]
    }
   ],
   "source": [
    "import pandas as pd\n",
    "\n",
    "matches_df = pd.DataFrame({\n",
    "    \"match_id\": [1, 2, 3, 4, 5],\n",
    "    \"season\": [2020, 2020, 2021, 2021, 2022],\n",
    "    \"team1\": [\"MI\", \"RCB\", \"CSK\", \"MI\", \"GT\"],\n",
    "    \"team2\": [\"CSK\", \"MI\", \"RCB\", \"KKR\", \"RR\"],\n",
    "    \"winner\": [\"MI\", \"RCB\", \"CSK\", None, \"GT\"],\n",
    "    \"result\": [\"completed\", \"completed\", \"tied\", \"abandoned\", \"completed\"]\n",
    "})\n",
    "\n",
    "balls_df = pd.DataFrame({\n",
    "    \"match_id\": [1, 1, 1, 2, 2, 3, 3, 5, 5, 5],\n",
    "    \"inning\": [1, 1, 1, 1, 1, 2, 2, 1, 1, 2],\n",
    "    \"ball_no\": [1, 2, 3, 1, 2, 1, 2, 1, 2, 1],\n",
    "    \"batsman\": [\"Rohit\", \"Rohit\", \"Kishan\", \"Kohli\", \"Kohli\", \"Dhoni\", \"Dhoni\", \"Gill\", \"Saha\", \"Buttler\"],\n",
    "    \"batting_team\": [\"MI\", \"MI\", \"MI\", \"RCB\", \"RCB\", \"CSK\", \"CSK\", \"GT\", \"GT\", \"RR\"]\n",
    "})\n",
    "\n",
    "team_year = pd.concat([\n",
    "    matches_df[['season', 'team1']].rename(columns={'team1': 'team'}),\n",
    "    matches_df[['season', 'team2']].rename(columns={'team2': 'team'})\n",
    "]).drop_duplicates()\n",
    "\n",
    "teams_each_year = team_year.groupby(\"season\")[\"team\"].nunique()\n",
    "print(\"1. Teams each year:\\n\", teams_each_year)\n",
    "\n",
    "match_results = matches_df['result'].value_counts()\n",
    "print(\"\\n2. Match result counts:\\n\", match_results)\n",
    "\n",
    "avg_balls = balls_df.groupby([\"match_id\", \"inning\"]).size().groupby(\"inning\").mean()\n",
    "print(\"\\n3. Average balls per match per inning:\\n\", avg_balls)\n",
    "\n",
    "match_wins = matches_df.dropna(subset=[\"winner\"]).groupby([\"season\", \"winner\"]).size().reset_index(name=\"wins\")\n",
    "match_wins_sorted = match_wins.sort_values([\"season\", \"wins\"], ascending=[True, False])\n",
    "print(\"\\n4. Matches won per year:\\n\", match_wins_sorted)\n",
    "\n",
    "batsmen_grouped = balls_df.groupby([\"match_id\", \"batting_team\"])[\"batsman\"].agg(\n",
    "    batsmen_list=lambda x: list(x),\n",
    "    batsmen_set=lambda x: list(set(x))\n",
    ").reset_index()\n",
    "\n",
    "print(\"\\n5. Batsmen list vs set per match/team:\\n\", batsmen_grouped)\n"
   ]
  }
 ],
 "metadata": {
  "kernelspec": {
   "display_name": "Python 3",
   "language": "python",
   "name": "python3"
  },
  "language_info": {
   "codemirror_mode": {
    "name": "ipython",
    "version": 3
   },
   "file_extension": ".py",
   "mimetype": "text/x-python",
   "name": "python",
   "nbconvert_exporter": "python",
   "pygments_lexer": "ipython3",
   "version": "3.10.0"
  }
 },
 "nbformat": 4,
 "nbformat_minor": 5
}
