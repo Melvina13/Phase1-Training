{
 "cells": [
  {
   "cell_type": "code",
   "execution_count": 1,
   "id": "10e495e9",
   "metadata": {},
   "outputs": [
    {
     "name": "stdout",
     "output_type": "stream",
     "text": [
      "Average Score Pivot:\n",
      " season   2020   2021   2022\n",
      "team                       \n",
      "MI      180.0  190.0  200.0\n",
      "RCB     160.0  155.0  165.0\n",
      "\n",
      "Max Score Pivot:\n",
      " season  2020  2021  2022\n",
      "team                    \n",
      "MI       180   190   200\n",
      "RCB      160   155   165\n"
     ]
    }
   ],
   "source": [
    "import pandas as pd\n",
    "\n",
    "score_data = {\n",
    "    \"match_id\": [1, 2, 3, 4, 5, 6],\n",
    "    \"season\": [2020, 2020, 2021, 2021, 2022, 2022],\n",
    "    \"team\": [\"MI\", \"RCB\", \"MI\", \"RCB\", \"MI\", \"RCB\"],\n",
    "    \"score\": [180, 160, 190, 155, 200, 165]\n",
    "}\n",
    "\n",
    "df = pd.DataFrame(score_data)\n",
    "\n",
    "avg_pivot = df.pivot_table(index=\"team\", columns=\"season\", values=\"score\", aggfunc=\"mean\", fill_value=0)\n",
    "print(\"Average Score Pivot:\\n\", avg_pivot)\n",
    "\n",
    "max_pivot = df.pivot_table(index=\"team\", columns=\"season\", values=\"score\", aggfunc=\"max\", fill_value=0)\n",
    "print(\"\\nMax Score Pivot:\\n\", max_pivot)\n"
   ]
  }
 ],
 "metadata": {
  "kernelspec": {
   "display_name": "Python 3",
   "language": "python",
   "name": "python3"
  },
  "language_info": {
   "codemirror_mode": {
    "name": "ipython",
    "version": 3
   },
   "file_extension": ".py",
   "mimetype": "text/x-python",
   "name": "python",
   "nbconvert_exporter": "python",
   "pygments_lexer": "ipython3",
   "version": "3.10.0"
  }
 },
 "nbformat": 4,
 "nbformat_minor": 5
}
