{
 "cells": [
  {
   "cell_type": "code",
   "execution_count": 1,
   "id": "d18a9b38",
   "metadata": {},
   "outputs": [
    {
     "name": "stdout",
     "output_type": "stream",
     "text": [
      "                      comment   bowler batsman runs\n",
      "0  1.1 Bumrah to Kohli, 1 run   Bumrah   Kohli    1\n",
      "1  1.2 Rashid to Dhawan, FOUR   Rashid  Dhawan    4\n",
      "2     1.3 Shami to Rohit, OUT    Shami   Rohit  OUT\n",
      "3  1.4 Starc to Smith, no run    Starc   Smith    0\n",
      "4   1.5 Cummins to Rahul, SIX  Cummins   Rahul    6\n",
      "5   1.6 Boult to Gill, 2 runs    Boult    Gill    2\n"
     ]
    }
   ],
   "source": [
    "import pandas as pd\n",
    "import re\n",
    "\n",
    "commentary_df = pd.DataFrame({\n",
    "    'comment': [\n",
    "        '1.1 Bumrah to Kohli, 1 run',\n",
    "        '1.2 Rashid to Dhawan, FOUR',\n",
    "        '1.3 Shami to Rohit, OUT',\n",
    "        '1.4 Starc to Smith, no run',\n",
    "        '1.5 Cummins to Rahul, SIX',\n",
    "        '1.6 Boult to Gill, 2 runs'\n",
    "    ]\n",
    "})\n",
    "\n",
    "def extract_info(comment):\n",
    "    match = re.match(r\"\\d+\\.\\d+ ([\\w\\s]+) to ([\\w\\s]+), (.+)\", comment)\n",
    "    if match:\n",
    "        bowler = match.group(1).strip()\n",
    "        batsman = match.group(2).strip()\n",
    "        outcome = match.group(3).strip().lower()\n",
    "\n",
    "        if 'four' in outcome:\n",
    "            runs = 4\n",
    "        elif 'six' in outcome:\n",
    "            runs = 6\n",
    "        elif 'no run' in outcome:\n",
    "            runs = 0\n",
    "        elif 'out' in outcome:\n",
    "            runs = 'OUT'\n",
    "        else:\n",
    "            try:\n",
    "                runs = int(re.search(r'\\d+', outcome).group())\n",
    "            except:\n",
    "                runs = 'Unknown'\n",
    "        return pd.Series([bowler, batsman, runs])\n",
    "    else:\n",
    "        return pd.Series(['Unknown', 'Unknown', 'Unknown'])\n",
    "\n",
    "commentary_df[['bowler', 'batsman', 'runs']] = commentary_df['comment'].apply(extract_info)\n",
    "\n",
    "print(commentary_df)\n"
   ]
  }
 ],
 "metadata": {
  "kernelspec": {
   "display_name": "Python 3",
   "language": "python",
   "name": "python3"
  },
  "language_info": {
   "codemirror_mode": {
    "name": "ipython",
    "version": 3
   },
   "file_extension": ".py",
   "mimetype": "text/x-python",
   "name": "python",
   "nbconvert_exporter": "python",
   "pygments_lexer": "ipython3",
   "version": "3.10.0"
  }
 },
 "nbformat": 4,
 "nbformat_minor": 5
}
