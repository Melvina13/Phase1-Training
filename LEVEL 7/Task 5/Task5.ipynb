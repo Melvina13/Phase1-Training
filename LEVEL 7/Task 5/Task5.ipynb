{
 "cells": [
  {
   "cell_type": "code",
   "execution_count": 1,
   "metadata": {},
   "outputs": [
    {
     "name": "stdout",
     "output_type": "stream",
     "text": [
      "Covariance: 45.83\n",
      "Interpretation: Positive covariance; as height increases, weight tends to increase.\n"
     ]
    }
   ],
   "source": [
    "import numpy as np\n",
    "height = np.array([160, 170, 180, 175])\n",
    "weight = np.array([60, 70, 75, 65])\n",
    "cov_matrix = np.cov(height, weight, ddof=1)\n",
    "covariance = cov_matrix[0, 1]  \n",
    "interpretation = \"Positive covariance; as height increases, weight tends to increase.\" if covariance > 0 else \"Negative or no covariance; no clear relationship.\"\n",
    "print(f\"Covariance: {covariance:.2f}\")\n",
    "print(f\"Interpretation: {interpretation}\")\n"
   ]
  }
 ],
 "metadata": {
  "kernelspec": {
   "display_name": "Python 3",
   "language": "python",
   "name": "python3"
  },
  "language_info": {
   "codemirror_mode": {
    "name": "ipython",
    "version": 3
   },
   "file_extension": ".py",
   "mimetype": "text/x-python",
   "name": "python",
   "nbconvert_exporter": "python",
   "pygments_lexer": "ipython3",
   "version": "3.10.0"
  }
 },
 "nbformat": 4,
 "nbformat_minor": 2
}
