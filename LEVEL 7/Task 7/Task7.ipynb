{
 "cells": [
  {
   "cell_type": "code",
   "execution_count": 1,
   "metadata": {},
   "outputs": [
    {
     "name": "stdout",
     "output_type": "stream",
     "text": [
      "Simulated Probability of Success: 0.3440\n",
      "Theoretical Probability of Success: 0.3000\n",
      "Interpretation: The simulated probability is close to the theoretical value, confirming Bernoulli distribution properties.\n"
     ]
    }
   ],
   "source": [
    "import numpy as np\n",
    "p_success = 0.3\n",
    "num_trials = 1000\n",
    "trials = np.random.binomial(n=1, p=p_success, size=num_trials)\n",
    "simulated_p = np.mean(trials)\n",
    "print(f\"Simulated Probability of Success: {simulated_p:.4f}\")\n",
    "print(f\"Theoretical Probability of Success: {p_success:.4f}\")\n",
    "print(f\"Interpretation: The simulated probability is close to the theoretical value, confirming Bernoulli distribution properties.\")\n"
   ]
  }
 ],
 "metadata": {
  "kernelspec": {
   "display_name": "Python 3",
   "language": "python",
   "name": "python3"
  },
  "language_info": {
   "codemirror_mode": {
    "name": "ipython",
    "version": 3
   },
   "file_extension": ".py",
   "mimetype": "text/x-python",
   "name": "python",
   "nbconvert_exporter": "python",
   "pygments_lexer": "ipython3",
   "version": "3.10.0"
  }
 },
 "nbformat": 4,
 "nbformat_minor": 2
}
