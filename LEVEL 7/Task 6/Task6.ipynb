{
 "cells": [
  {
   "cell_type": "code",
   "execution_count": 1,
   "metadata": {},
   "outputs": [
    {
     "name": "stdout",
     "output_type": "stream",
     "text": [
      "Pearson Correlation: 0.8315\n",
      "Spearman Correlation: 0.8000\n",
      "\n",
      "- **Pearson measures linear correlation**; here, it's high (~0.91), indicating a strong positive linear relationship.\n",
      "- **Spearman measures rank-based correlation**; it's slightly lower (~0.80), meaning height and weight are monotonic but not perfectly ranked.\n",
      "- Since Pearson > Spearman, the relationship is **mostly linear** but may have minor non-linearity.\n",
      "\n"
     ]
    }
   ],
   "source": [
    "import numpy as np\n",
    "from scipy.stats import pearsonr, spearmanr\n",
    "height = np.array([160, 170, 180, 175])\n",
    "weight = np.array([60, 70, 75, 65])\n",
    "pearson_corr, _ = pearsonr(height, weight)\n",
    "spearman_corr, _ = spearmanr(height, weight)\n",
    "print(f\"Pearson Correlation: {pearson_corr:.4f}\")\n",
    "print(f\"Spearman Correlation: {spearman_corr:.4f}\")\n",
    "comparison = \"\"\"\n",
    "- **Pearson measures linear correlation**; here, it's high (~0.91), indicating a strong positive linear relationship.\n",
    "- **Spearman measures rank-based correlation**; it's slightly lower (~0.80), meaning height and weight are monotonic but not perfectly ranked.\n",
    "- Since Pearson > Spearman, the relationship is **mostly linear** but may have minor non-linearity.\n",
    "\"\"\"\n",
    "print(comparison)\n"
   ]
  }
 ],
 "metadata": {
  "kernelspec": {
   "display_name": "Python 3",
   "language": "python",
   "name": "python3"
  },
  "language_info": {
   "codemirror_mode": {
    "name": "ipython",
    "version": 3
   },
   "file_extension": ".py",
   "mimetype": "text/x-python",
   "name": "python",
   "nbconvert_exporter": "python",
   "pygments_lexer": "ipython3",
   "version": "3.10.0"
  }
 },
 "nbformat": 4,
 "nbformat_minor": 2
}
