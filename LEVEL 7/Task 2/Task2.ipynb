{
 "cells": [
  {
   "cell_type": "code",
   "execution_count": 1,
   "metadata": {},
   "outputs": [
    {
     "name": "stdout",
     "output_type": "stream",
     "text": [
      "Z-score: 3.7874\n",
      "P-value: 0.0001\n",
      "Decision: Reject H₀: The new method significantly improves scores.\n"
     ]
    }
   ],
   "source": [
    "import numpy as np\n",
    "from statsmodels.stats.weightstats import ztest\n",
    "mean_traditional = 75\n",
    "std_traditional = 10\n",
    "n_traditional = 40\n",
    "mean_new = 82\n",
    "std_new = 12\n",
    "n_new = 35\n",
    "np.random.seed(42) \n",
    "traditional_scores = np.random.normal(mean_traditional, std_traditional, n_traditional)\n",
    "new_method_scores = np.random.normal(mean_new, std_new, n_new)\n",
    "z_score, p_value = ztest(new_method_scores, traditional_scores, alternative='larger')\n",
    "alpha = 0.05\n",
    "decision = \"Reject H₀: The new method significantly improves scores.\" if p_value < alpha else \"Fail to reject H₀: No significant improvement.\"\n",
    "print(f\"Z-score: {z_score:.4f}\")\n",
    "print(f\"P-value: {p_value:.4f}\")\n",
    "print(f\"Decision: {decision}\")\n"
   ]
  }
 ],
 "metadata": {
  "kernelspec": {
   "display_name": "Python 3",
   "language": "python",
   "name": "python3"
  },
  "language_info": {
   "codemirror_mode": {
    "name": "ipython",
    "version": 3
   },
   "file_extension": ".py",
   "mimetype": "text/x-python",
   "name": "python",
   "nbconvert_exporter": "python",
   "pygments_lexer": "ipython3",
   "version": "3.10.0"
  }
 },
 "nbformat": 4,
 "nbformat_minor": 2
}
