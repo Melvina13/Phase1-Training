{
 "cells": [
  {
   "cell_type": "code",
   "execution_count": null,
   "metadata": {},
   "outputs": [
    {
     "name": "stdout",
     "output_type": "stream",
     "text": [
      "Z-score: 15.0837\n",
      "P-value: 0.0000\n",
      "Decision: Reject H₀; medication affects IQ, likely increasing it.\n"
     ]
    }
   ],
   "source": [
    "import numpy as np\n",
    "import statsmodels.stats.weightstats as st\n",
    "np.random.seed(42)  \n",
    "sample_data = np.random.normal(140, 15, 30)  \n",
    "z_score, p_value = st.ztest(sample_data, value=100, alternative='two-sided')\n",
    "alpha = 0.05\n",
    "decision = \"Reject H₀; medication affects IQ, likely increasing it.\" if p_value < alpha else \"Fail to reject H₀; no significant effect.\"\n",
    "print(f\"Z-score: {z_score:.4f}\")\n",
    "print(f\"P-value: {p_value:.4f}\")\n",
    "print(f\"Decision: {decision}\")\n"
   ]
  }
 ],
 "metadata": {
  "kernelspec": {
   "display_name": "Python 3",
   "language": "python",
   "name": "python3"
  },
  "language_info": {
   "codemirror_mode": {
    "name": "ipython",
    "version": 3
   },
   "file_extension": ".py",
   "mimetype": "text/x-python",
   "name": "python",
   "nbconvert_exporter": "python",
   "pygments_lexer": "ipython3",
   "version": "3.10.0"
  }
 },
 "nbformat": 4,
 "nbformat_minor": 2
}
