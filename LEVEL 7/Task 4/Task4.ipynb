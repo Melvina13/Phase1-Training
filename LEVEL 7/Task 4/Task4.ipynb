{
 "cells": [
  {
   "cell_type": "code",
   "execution_count": 1,
   "metadata": {},
   "outputs": [
    {
     "name": "stdout",
     "output_type": "stream",
     "text": [
      "Chi-Square Statistic: 232.4940\n",
      "P-value: 0.0000\n",
      "Decision: Reject H₀: Age distribution has significantly changed.\n"
     ]
    }
   ],
   "source": [
    "from scipy import stats\n",
    "observed = [121, 288, 91]  \n",
    "expected = [100, 150, 250] \n",
    "alpha = 0.05  \n",
    "chi_square_stat, p_value = stats.chisquare(observed, expected)\n",
    "decision = \"Reject H₀: Age distribution has significantly changed.\" if p_value < alpha else \"Fail to reject H₀: No significant change in age distribution.\"\n",
    "print(f\"Chi-Square Statistic: {chi_square_stat:.4f}\")\n",
    "print(f\"P-value: {p_value:.4f}\")\n",
    "print(f\"Decision: {decision}\")\n"
   ]
  }
 ],
 "metadata": {
  "kernelspec": {
   "display_name": "Python 3",
   "language": "python",
   "name": "python3"
  },
  "language_info": {
   "codemirror_mode": {
    "name": "ipython",
    "version": 3
   },
   "file_extension": ".py",
   "mimetype": "text/x-python",
   "name": "python",
   "nbconvert_exporter": "python",
   "pygments_lexer": "ipython3",
   "version": "3.10.0"
  }
 },
 "nbformat": 4,
 "nbformat_minor": 2
}
