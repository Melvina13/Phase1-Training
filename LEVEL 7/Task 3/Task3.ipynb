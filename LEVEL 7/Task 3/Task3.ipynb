{
 "cells": [
  {
   "cell_type": "code",
   "execution_count": 1,
   "metadata": {},
   "outputs": [
    {
     "name": "stdout",
     "output_type": "stream",
     "text": [
      "T-score: 11.0265\n",
      "P-value: 0.0000\n",
      "Decision: Reject H₀: Medication significantly increases IQ.\n"
     ]
    }
   ],
   "source": [
    "import numpy as np\n",
    "from scipy import stats\n",
    "population_mean = 100  \n",
    "sample_mean = 140  \n",
    "sample_std = 20 \n",
    "n = 30 \n",
    "alpha = 0.05  \n",
    "np.random.seed(42)  \n",
    "sample_data = np.random.normal(sample_mean, sample_std, n)\n",
    "t_score, p_value = stats.ttest_1samp(sample_data, popmean=population_mean)\n",
    "decision = \"Reject H₀: Medication significantly increases IQ.\" if p_value < alpha else \"Fail to reject H₀: No significant effect on IQ.\"\n",
    "print(f\"T-score: {t_score:.4f}\")\n",
    "print(f\"P-value: {p_value:.4f}\")\n",
    "print(f\"Decision: {decision}\")\n"
   ]
  }
 ],
 "metadata": {
  "kernelspec": {
   "display_name": "Python 3",
   "language": "python",
   "name": "python3"
  },
  "language_info": {
   "codemirror_mode": {
    "name": "ipython",
    "version": 3
   },
   "file_extension": ".py",
   "mimetype": "text/x-python",
   "name": "python",
   "nbconvert_exporter": "python",
   "pygments_lexer": "ipython3",
   "version": "3.10.0"
  }
 },
 "nbformat": 4,
 "nbformat_minor": 2
}
