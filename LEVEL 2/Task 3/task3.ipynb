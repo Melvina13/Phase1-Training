{
 "cells": [
  {
   "cell_type": "code",
   "execution_count": 1,
   "metadata": {},
   "outputs": [
    {
     "name": "stdout",
     "output_type": "stream",
     "text": [
      "Original List: [1, 2, 3, 4, 5, 6]\n",
      "Multiplied List: [3, 6, 9, 12, 15, 18]\n",
      "Filtered Even Numbers: [6, 12, 18]\n"
     ]
    }
   ],
   "source": [
    "\n",
    "def multiply(a, b):\n",
    "    return a * b\n",
    "\n",
    "multiply_lambda = lambda a, b: a * b\n",
    "\n",
    "arr = [1, 2, 3, 4, 5, 6]\n",
    "num = int(input(\"Enter a number to multiply each element: \")) \n",
    "\n",
    "multiplied_list = list(map(lambda x: x * num, arr))  \n",
    "\n",
    "filtered_list = list(filter(lambda x: x % 2 == 0, multiplied_list))\n",
    "\n",
    "print(\"Original List:\", arr)\n",
    "print(\"Multiplied List:\", multiplied_list)\n",
    "print(\"Filtered Even Numbers:\", filtered_list)\n"
   ]
  }
 ],
 "metadata": {
  "kernelspec": {
   "display_name": "Python 3",
   "language": "python",
   "name": "python3"
  },
  "language_info": {
   "codemirror_mode": {
    "name": "ipython",
    "version": 3
   },
   "file_extension": ".py",
   "mimetype": "text/x-python",
   "name": "python",
   "nbconvert_exporter": "python",
   "pygments_lexer": "ipython3",
   "version": "3.10.0"
  }
 },
 "nbformat": 4,
 "nbformat_minor": 2
}
