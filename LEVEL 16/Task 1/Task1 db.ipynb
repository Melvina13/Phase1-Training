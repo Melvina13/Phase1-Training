{
 "cells": [
  {
   "cell_type": "code",
   "execution_count": 0,
   "metadata": {
    "application/vnd.databricks.v1+cell": {
     "cellMetadata": {
      "byteLimit": 2048000,
      "rowLimit": 10000
     },
     "inputWidgets": {},
     "nuid": "5b6782c3-eec8-4c6f-836a-ec79ed2591e0",
     "showTitle": false,
     "tableResultSettingsMap": {},
     "title": ""
    }
   },
   "outputs": [
    {
     "output_type": "stream",
     "name": "stdout",
     "output_type": "stream",
     "text": [
      " Sample IPL dataset saved to ipl_data.csv\n\n Cleaned IPL Data:\n   match_id       date    venue  ...  runs_total  dismissal_kind player_dismissed\n0         1 2021-04-09  Chennai  ...           0             nan              nan\n1         1 2021-04-09  Chennai  ...           1             nan              nan\n2         1 2021-04-09  Chennai  ...           4             nan              nan\n3         1 2021-04-09  Chennai  ...           1         run out       Chris Lynn\n4         1 2021-04-09  Chennai  ...           1             nan              nan\n\n[5 rows x 14 columns]\n"
     ]
    }
   ],
   "source": [
    "import pandas as pd\n",
    "import os\n",
    "\n",
    "ipl_data = [\n",
    "    [1, \"2021-04-09\", \"Chennai\", 1, 0.1, \"Mumbai Indians\", \"RCB\", \"Rohit Sharma\", \"Washington Sundar\", 0, 0, 0, \"\", \"\"],\n",
    "    [1, \"2021-04-09\", \"Chennai\", 1, 0.2, \"Mumbai Indians\", \"RCB\", \"Rohit Sharma\", \"Washington Sundar\", 1, 0, 1, \"\", \"\"],\n",
    "    [1, \"2021-04-09\", \"Chennai\", 1, 0.3, \"Mumbai Indians\", \"RCB\", \"Chris Lynn\", \"Washington Sundar\", 4, 0, 4, \"\", \"\"],\n",
    "    [1, \"2021-04-09\", \"Chennai\", 1, 0.4, \"Mumbai Indians\", \"RCB\", \"Chris Lynn\", \"Washington Sundar\", 0, 1, 1, \"run out\", \"Chris Lynn\"],\n",
    "    [1, \"2021-04-09\", \"Chennai\", 2, 0.1, \"RCB\", \"Mumbai Indians\", \"Virat Kohli\", \"Trent Boult\", 1, 0, 1, \"\", \"\"],\n",
    "    [1, \"2021-04-09\", \"Chennai\", 2, 0.2, \"RCB\", \"Mumbai Indians\", \"Virat Kohli\", \"Trent Boult\", 0, 0, 0, \"\", \"\"]\n",
    "]\n",
    "\n",
    "columns = [\n",
    "    'match_id', 'date', 'venue', 'innings', 'ball',\n",
    "    'batting_team', 'bowling_team', 'batsman', 'bowler',\n",
    "    'runs_batsman', 'runs_extras', 'runs_total',\n",
    "    'dismissal_kind', 'player_dismissed'\n",
    "]\n",
    "\n",
    "df_sample = pd.DataFrame(ipl_data, columns=columns)\n",
    "\n",
    "csv_path = \"ipl_data.csv\"\n",
    "df_sample.to_csv(csv_path, index=False)\n",
    "print(f\" Sample IPL dataset saved to {csv_path}\")\n",
    "\n",
    "df_raw = pd.read_csv(csv_path)\n",
    "\n",
    "expected_schema = {\n",
    "    'match_id': int,\n",
    "    'date': 'datetime64[ns]',\n",
    "    'venue': str,\n",
    "    'innings': int,\n",
    "    'ball': float,\n",
    "    'batting_team': str,\n",
    "    'bowling_team': str,\n",
    "    'batsman': str,\n",
    "    'bowler': str,\n",
    "    'runs_batsman': int,\n",
    "    'runs_extras': int,\n",
    "    'runs_total': int,\n",
    "    'dismissal_kind': str,\n",
    "    'player_dismissed': str\n",
    "}\n",
    "\n",
    "for col, dtype in expected_schema.items():\n",
    "    if dtype == 'datetime64[ns]':\n",
    "        df_raw[col] = pd.to_datetime(df_raw[col], errors='coerce')\n",
    "    elif dtype == int:\n",
    "        df_raw[col] = pd.to_numeric(df_raw[col], errors='coerce').astype('Int64')\n",
    "    elif dtype == float:\n",
    "        df_raw[col] = pd.to_numeric(df_raw[col], errors='coerce').astype('float64')\n",
    "    else:\n",
    "        df_raw[col] = df_raw[col].astype(str).str.strip()\n",
    "\n",
    "required_columns = ['match_id', 'date', 'batsman', 'bowler', 'runs_total']\n",
    "df_clean = df_raw.dropna(subset=required_columns)\n",
    "\n",
    "df_clean = df_clean[\n",
    "    (df_clean['innings'].between(1, 2)) &\n",
    "    (df_clean['runs_total'] >= 0)\n",
    "]\n",
    "\n",
    "print(\"\\n Cleaned IPL Data:\")\n",
    "print(df_clean.head())\n"
   ]
  }
 ],
 "metadata": {
  "application/vnd.databricks.v1+notebook": {
   "computePreferences": null,
   "dashboards": [],
   "environmentMetadata": {
    "base_environment": "",
    "environment_version": "2"
   },
   "inputWidgetPreferences": null,
   "language": "python",
   "notebookMetadata": {
    "pythonIndentUnit": 4
   },
   "notebookName": "Untitled Notebook 2025-04-21 09:28:56",
   "widgets": {}
  },
  "language_info": {
   "name": "python"
  }
 },
 "nbformat": 4,
 "nbformat_minor": 0
}