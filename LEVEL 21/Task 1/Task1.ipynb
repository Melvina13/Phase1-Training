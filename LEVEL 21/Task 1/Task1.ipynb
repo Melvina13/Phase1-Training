{
 "cells": [
  {
   "cell_type": "code",
   "execution_count": 2,
   "id": "d287ca40",
   "metadata": {},
   "outputs": [
    {
     "name": "stdout",
     "output_type": "stream",
     "text": [
      "  Order Date Shipped Date  Processing Time (Days)\n",
      "0 2023-01-01   2023-01-05                     4.0\n",
      "1        NaT          NaT                     NaN\n",
      "2        NaT          NaT                     NaN\n"
     ]
    }
   ],
   "source": [
    "import pandas as pd\n",
    "\n",
    "df = pd.DataFrame({\n",
    "    'Order Date': ['2023-01-01', '2023/02/15', '15-Mar-2023'],\n",
    "    'Shipped Date': ['2023-01-05', '2023/02/20', '18-Mar-2023']\n",
    "})\n",
    "\n",
    "df['Order Date'] = pd.to_datetime(df['Order Date'], errors='coerce', dayfirst=False)\n",
    "df['Shipped Date'] = pd.to_datetime(df['Shipped Date'], errors='coerce', dayfirst=False)\n",
    "\n",
    "df['Processing Time (Days)'] = (df['Shipped Date'] - df['Order Date']).dt.days\n",
    "\n",
    "print(df)\n"
   ]
  }
 ],
 "metadata": {
  "kernelspec": {
   "display_name": "Python 3",
   "language": "python",
   "name": "python3"
  },
  "language_info": {
   "codemirror_mode": {
    "name": "ipython",
    "version": 3
   },
   "file_extension": ".py",
   "mimetype": "text/x-python",
   "name": "python",
   "nbconvert_exporter": "python",
   "pygments_lexer": "ipython3",
   "version": "3.10.0"
  }
 },
 "nbformat": 4,
 "nbformat_minor": 5
}
